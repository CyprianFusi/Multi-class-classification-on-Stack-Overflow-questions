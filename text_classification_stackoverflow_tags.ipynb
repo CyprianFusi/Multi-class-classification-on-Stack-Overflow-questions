{
 "cells": [
  {
   "cell_type": "markdown",
   "id": "d818804d-e55a-41d0-bb96-3ba0454eafe7",
   "metadata": {},
   "source": [
    "## Multi-class classification on Stack Overflow questions\n",
    "Train a multi-class classifier to predict the **tag** of a programming question on [Stack Overflow](http://stackoverflow.com/).\n",
    "\n",
    "## The Dataset\n",
    "A [dataset](https://storage.googleapis.com/download.tensorflow.org/data/stack_overflow_16k.tar.gz) has been prepared and is ready to be used. It contained the body of several thousand programming questions (for example, \"How can I sort a dictionary by value in Python?\") posted to Stack Overflow. Each of these is labeled with exactly one tag (either `Python, CSharp, JavaScript`, or `Java`). The task is to take a question as input, and predict the appropriate tag, in this case, Python.\n",
    "\n",
    "The dataset you will work with contains several thousand questions extracted from the much larger public Stack Overflow dataset on [BigQuery](https://console.cloud.google.com/marketplace/details/stack-exchange/stack-overflow), which contains more than 17 million posts.\n",
    "\n",
    "After downloading the dataset, you will find it has a directory structure like this:\n",
    "\n",
    "```\n",
    "train/\n",
    "...python/\n",
    "......0.txt\n",
    "......1.txt\n",
    "...javascript/\n",
    "......0.txt\n",
    "......1.txt\n",
    "...csharp/\n",
    "......0.txt\n",
    "......1.txt\n",
    "...java/\n",
    "......0.txt\n",
    "......1.txt\n",
    "```\n",
    "Note: To increase the difficulty of the classification problem, occurrences of the words Python, CSharp, JavaScript, or Java in the programming questions have been replaced with the word *blank* (as many questions contain the language they're about).\n",
    "\n",
    "### Load required packages"
   ]
  },
  {
   "cell_type": "code",
   "execution_count": 1,
   "id": "79c62feb-71d6-4427-bc45-df4f5e830cb0",
   "metadata": {},
   "outputs": [],
   "source": [
    "import os\n",
    "import re\n",
    "import shutil\n",
    "import string\n",
    "import tensorflow as tf\n",
    "\n",
    "from tensorflow.keras import layers\n",
    "from tensorflow.keras import losses\n",
    "import matplotlib.pyplot as plt"
   ]
  },
  {
   "cell_type": "code",
   "execution_count": 2,
   "id": "47ea63fe-4c97-41dd-90c8-7ae209857cf5",
   "metadata": {},
   "outputs": [
    {
     "name": "stdout",
     "output_type": "stream",
     "text": [
      "TF Version: 2.10.0\n"
     ]
    }
   ],
   "source": [
    "print(f'TF Version: {tf.__version__}')"
   ]
  },
  {
   "cell_type": "markdown",
   "id": "fca8f80e-70b5-4c56-9809-af6c1521303c",
   "metadata": {},
   "source": [
    "## Download and explore the Stackoverflow dataset\n",
    "Let's download and extract the dataset, then explore the directory structure."
   ]
  },
  {
   "cell_type": "code",
   "execution_count": 3,
   "id": "ab08bc96",
   "metadata": {},
   "outputs": [
    {
     "name": "stdout",
     "output_type": "stream",
     "text": [
      "Downloading data from https://storage.googleapis.com/download.tensorflow.org/data/stack_overflow_16k.tar.gz\n",
      "6053168/6053168 [==============================] - 0s 0us/step\n"
     ]
    }
   ],
   "source": [
    "url = r'https://storage.googleapis.com/download.tensorflow.org/data/stack_overflow_16k.tar.gz'\n",
    "fname = url.split('/')[-1].split('.')[0][:-4]  # stack_overflow\n",
    "\n",
    "custom_cache_dir = fname\n",
    "os.makedirs(custom_cache_dir, exist_ok=True)\n",
    "\n",
    "dataset = tf.keras.utils.get_file(\n",
    "    fname,\n",
    "    url,\n",
    "    untar=True,\n",
    "    cache_dir=custom_cache_dir,\n",
    "    cache_subdir=''\n",
    ")\n",
    "dataset_dir = fname"
   ]
  },
  {
   "cell_type": "code",
   "execution_count": 4,
   "id": "3c4dbc3e-526c-4f97-818e-177b0799e304",
   "metadata": {},
   "outputs": [
    {
     "data": {
      "text/plain": [
       "['README.md', 'stack_overflow.tar.gz', 'test', 'train']"
      ]
     },
     "execution_count": 4,
     "metadata": {},
     "output_type": "execute_result"
    }
   ],
   "source": [
    "os.listdir(dataset_dir)"
   ]
  },
  {
   "cell_type": "markdown",
   "id": "e20017a2-2a15-4863-92e2-7745f8ed5649",
   "metadata": {},
   "source": [
    "### Get the train and test directories"
   ]
  },
  {
   "cell_type": "code",
   "execution_count": 5,
   "id": "20e49554-5a95-41bc-8e1a-5ea0d0df7212",
   "metadata": {},
   "outputs": [
    {
     "data": {
      "text/plain": [
       "['csharp', 'java', 'javascript', 'python']"
      ]
     },
     "execution_count": 5,
     "metadata": {},
     "output_type": "execute_result"
    }
   ],
   "source": [
    "train_dir = os.path.join(dataset_dir, 'train')\n",
    "os.listdir(train_dir)"
   ]
  },
  {
   "cell_type": "code",
   "execution_count": 6,
   "id": "17d0b0f2-8434-42ef-aed2-3b4bf4cc2d73",
   "metadata": {},
   "outputs": [
    {
     "data": {
      "text/plain": [
       "['csharp', 'java', 'javascript', 'python']"
      ]
     },
     "execution_count": 6,
     "metadata": {},
     "output_type": "execute_result"
    }
   ],
   "source": [
    "test_dir = os.path.join(dataset_dir, 'test')\n",
    "os.listdir(test_dir)"
   ]
  },
  {
   "cell_type": "markdown",
   "id": "0e236de7-82c3-4567-b654-7b53ce1b697e",
   "metadata": {},
   "source": [
    "The `stack_overflow/train/java`, `stack_overflow/train/python`, `stack_overflow/train/csharp` and `stack_overflow/train/javascript` directories contain many text files, each of which is a single stackoverflow question. Let's take a look at a few of them."
   ]
  },
  {
   "cell_type": "code",
   "execution_count": 7,
   "id": "c353cff5-4b4b-4deb-818f-e05b127952e9",
   "metadata": {},
   "outputs": [
    {
     "name": "stdout",
     "output_type": "stream",
     "text": [
      "\"how to download .msi file in blank i want to download .msi file using blank.  i have tried to download file using following code..printwriter out = null;.fileinputstream filetodownload = null;.bufferedreader bufferedreader = null;.try {.        out = response.getwriter();.        filetodownload = new fileinputstream(download_directory + file_name);.        bufferedreader = new bufferedreader(new inputstreamreader(filetodownload));..        //response.setcontenttype(\"\"application/text\"\");.        //response.setcontenttype(\"\"application/x-msi\"\");.        //response.setcontenttype(\"\"application/msi\"\");.        //response.setcontenttype(\"\"octet-stream\"\");.        response.setcontenttype(\"\"application/octet-stream\"\");.        //response.setcontenttype(\"\"application/x-7z-compressed\"\");.        //response.setcontenttype(\"\"application/zip\"\");.        response.setheader(\"\"content-disposition\"\",\"\"attachment; filename=\"\" +file_name );.        response.setcontentlength(filetodownload.available());..        system.out.println(\"\"n now file download is starting\"\");.        string nextline = \"\"\"\";.        while((nextline = bufferedreader.readline()) != null){.            out.println(nextline);.        }.        out.flush();                                ..    } catch (ioexception e) {.        out.write(\"\"&lt;center&gt;&lt;h2&gt;the installer is not available on server&lt;/h2&gt;&lt;/center&gt;\"\");.        system.out.println(\"\"n got exception while getting the input stream from the file==&gt;\"\"+e);.        log.error(\"\"error::\"\", e);.    }.    finally{.        if(null != bufferedreader){.            try {.                bufferedreader.close();.            } catch (ioexception e) {.                system.out.println(\"\"n error in closing buffer reader==&gt;\"\"+e);.                log.error(\"\"error::\"\", e);.            }.        }// end of if..        if(null != filetodownload){.            try {.                filetodownload.close();.            } catch (ioexception e) {.                system.out.println(\"\"n error in closing input stream==&gt;\"\"+e);.                log.error(\"\"error::\"\", e);.            }.        }// end of if.    }// end of finally\"\n",
      "\n"
     ]
    }
   ],
   "source": [
    "sample_file = os.path.join(train_dir, 'java/0.txt')\n",
    "with open(sample_file) as f:\n",
    "    print(f.read())"
   ]
  },
  {
   "cell_type": "code",
   "execution_count": 8,
   "id": "a5aff71b-12ee-4cc1-a457-71e8afa98806",
   "metadata": {},
   "outputs": [
    {
     "name": "stdout",
     "output_type": "stream",
     "text": [
      "\"is it legal to define two methods with the same name but different returning types? i've written a piece of code to determine a typical palindrome string. i did this by the definition of a reverse() method returning a string. i also eager to have the same method, but in the void form, because of some future needs..as i add the latter to the code, the valid output will become invalid..so, the question is that is it legal to define two methods with the same name but different returning types?.if not, please let me know how to write this code with the void-type method...class detector(object):.    def __init__(self,string):.        self.string = string..    forbidden = (' ','!','?','.','-','_','&amp;','%',\"\"#\"\",\"\",\"\")..    def eliminator(self):.        for item in self.forbidden:.            if item in self.string:.                self.string = self.string.replace(item,\"\"\"\")..    def reverse(self):.        return self.string[::-1]            ..    #def reverse(self):.    #    self.string = self.string[::-1]    i am prone to add this method..    def check(self):.        reversed = self.reverse().        if self.string == reversed:.            print(\"\"yes\"\").        else:.            print(\"\"no\"\")..det = detector(\"\"rise to vote, sir!\"\").det.eliminator().det.check()...when i add the commented lines, the valid \"\"yes\"\" becomes \"\"no\"\"!\"\n",
      "\n"
     ]
    }
   ],
   "source": [
    "sample_file = os.path.join(train_dir, 'python/0.txt')\n",
    "with open(sample_file) as f:\n",
    "    print(f.read())"
   ]
  },
  {
   "cell_type": "code",
   "execution_count": 9,
   "id": "5e574caf-914d-4f82-9974-68ac9eb776e7",
   "metadata": {},
   "outputs": [
    {
     "name": "stdout",
     "output_type": "stream",
     "text": [
      "\"how to pause loop while time is ticking i have made a timer where i can set time i want to wait and then do something..so this is my short timer func:..private void sleep(int interval, action action).{.    system.windows.forms.timer mytimer = new system.windows.forms.timer();.    mytimer.interval = interval; //interval is in ms   .    mytimer.start();.    mytimer.tick += (s, e) =&gt;.    {.        action();.        mytimer.stop();.    };.}...and im using this timer in loop:..foreach (string word in words).{.   sleep(5000, ()=&gt; myaction());                                           .}...without loop timer is great but in loop it wont work because loop wont stop and wait for those 5secs. it do all stuff imediately and starts timer again and again too fast...so what im trying to find out is how to make my loop wait until time runs out and myaction() is executed. im working on forms application so all threadin sleeps wont work here. also i tried all other timers but they used too much cpu.\"\n",
      "\n"
     ]
    }
   ],
   "source": [
    "sample_file = os.path.join(train_dir, 'csharp/0.txt')\n",
    "with open(sample_file) as f:\n",
    "    print(f.read())"
   ]
  },
  {
   "cell_type": "code",
   "execution_count": 10,
   "id": "7af91523-528e-43f5-8a60-7d0c785195cf",
   "metadata": {},
   "outputs": [
    {
     "name": "stdout",
     "output_type": "stream",
     "text": [
      "\"i have js error , saying object [object object] has no method 'countdown' i have a website working fine in all browsers except ie. when i look at the console it says:..object [object object] has no method 'countdown'...the website name is: http://www.rivalhost.com/ ..the problem is with menu. please help me out of this guys. thanks in advance\"\n",
      "\n"
     ]
    }
   ],
   "source": [
    "sample_file = os.path.join(train_dir, 'javascript/0.txt')\n",
    "with open(sample_file) as f:\n",
    "    print(f.read())"
   ]
  },
  {
   "cell_type": "markdown",
   "id": "3744068d-80f3-440c-9992-c459ab68b8f1",
   "metadata": {},
   "source": [
    "### Load the dataset\n",
    "\n",
    "Next, we will load the data off disk and prepare it into a format suitable for training. To do so, you will use the helpful [text_dataset_from_directory](https://www.tensorflow.org/api_docs/python/tf/keras/preprocessing/text_dataset_from_directory) utility, which expects a directory structure as follows.\n",
    "\n",
    "```\n",
    "main_directory/\n",
    "train/\n",
    "...python/\n",
    "......0.txt\n",
    "......1.txt\n",
    "...javascript/\n",
    "......0.txt\n",
    "......1.txt\n",
    "...csharp/\n",
    "......0.txt\n",
    "......1.txt\n",
    "...java/\n",
    "......0.txt\n",
    "......1.txt\n",
    "```\n",
    "\n",
    "To prepare a dataset for multiclass classification, we will need four folders on disk, corresponding to **class_a, class_b, class_c** and **class_d**. These will be the `python tag`, `java tag`, `csharp tag` and `javascript tag`, which can be found in **`train_dir`** and **`test_dir`** directories\n",
    "\n",
    "We will use the **`text_dataset_from_directory`** utility to create a labeled `tf.data.Dataset`. [tf.data](https://www.tensorflow.org/guide/data) is a powerful collection of tools for working with data.\n",
    "\n",
    "When running a machine learning experiment, it is a best practice to divide your dataset into **three** splits: [train](https://developers.google.com/machine-learning/glossary#training_set), [validation](https://developers.google.com/machine-learning/glossary#validation_set), and [test](https://developers.google.com/machine-learning/glossary#test-set).\n",
    "\n",
    "The **stackoverflow** dataset has already been divided into train and test, but it lacks a validation set. Let's create a validation set using an `80:20` split of the training data by using the `validation_split` argument below."
   ]
  },
  {
   "cell_type": "code",
   "execution_count": 11,
   "id": "03cbced4-a070-4050-8345-cc0089595f2e",
   "metadata": {},
   "outputs": [
    {
     "name": "stdout",
     "output_type": "stream",
     "text": [
      "Found 8000 files belonging to 4 classes.\n",
      "Using 6400 files for training.\n"
     ]
    }
   ],
   "source": [
    "batch_size = 32\n",
    "seed = 42\n",
    "\n",
    "raw_train_ds = tf.keras.utils.text_dataset_from_directory(\n",
    "    train_dir,\n",
    "    batch_size=batch_size,\n",
    "    validation_split=0.2,\n",
    "    subset='training',\n",
    "    seed=seed)"
   ]
  },
  {
   "cell_type": "markdown",
   "id": "6a43636e-2a41-47d1-bb3f-f1fce04d2bcf",
   "metadata": {},
   "source": [
    "As you can see above, there are `8,002` examples in the training folder, of which you will use 80% (or `6,402`) for training. As you will see in a moment, you can train a model by passing a dataset directly to `model.fit`. Let's iterate over the dataset and print out a few examples as follows."
   ]
  },
  {
   "cell_type": "code",
   "execution_count": 12,
   "id": "f78547d6-f0dc-47df-a063-1b24e8770ded",
   "metadata": {},
   "outputs": [
    {
     "name": "stdout",
     "output_type": "stream",
     "text": [
      "Question b'\"my tester is going to the wrong constructor i am new to programming so if i ask a question that can be easily fixed, please forgive me. my program has a tester class with a main. when i send that to my regularpolygon class, it sends it to the wrong constructor. i have two constructors. 1 without perameters..public regularpolygon().    {.       mynumsides = 5;.       mysidelength = 30;.    }//end default constructor...and my second, with perameters. ..public regularpolygon(int numsides, double sidelength).    {.        mynumsides = numsides;.        mysidelength = sidelength;.    }// end constructor...in my tester class i have these two lines:..regularpolygon shape = new regularpolygon(numsides, sidelength);.        shape.menu();...numsides and sidelength were declared and initialized earlier in the testing class...so what i want to happen, is the tester class sends numsides and sidelength to the second constructor and use it in that class. but it only uses the default constructor, which therefor ruins the whole rest of the program. can somebody help me?..for those of you who want to see more of my code: here you go..public double vertexangle().    {.        system.out.println(\"\"the vertex angle method: \"\" + mynumsides);// prints out 5.        system.out.println(\"\"the vertex angle method: \"\" + mysidelength); // prints out 30..        double vertexangle;.        vertexangle = ((mynumsides - 2.0) / mynumsides) * 180.0;.        return vertexangle;.    }//end method vertexangle..public void menu().{.    system.out.println(mynumsides); // prints out what the user puts in.    system.out.println(mysidelength); // prints out what the user puts in.    gotographic();.    calcr(mynumsides, mysidelength);.    calcr(mynumsides, mysidelength);.    print(); .}// end menu...this is my entire tester class:..public static void main(string[] arg).{.    int numsides;.    double sidelength;.    scanner keyboard = new scanner(system.in);..    system.out.println(\"\"welcome to the regular polygon program!\"\");.    system.out.println();..    system.out.print(\"\"enter the number of sides of the polygon ==&gt; \"\");.    numsides = keyboard.nextint();.    system.out.println();..    system.out.print(\"\"enter the side length of each side ==&gt; \"\");.    sidelength = keyboard.nextdouble();.    system.out.println();..    regularpolygon shape = new regularpolygon(numsides, sidelength);.    shape.menu();.}//end main...for testing it i sent it numsides 4 and sidelength 100.\"\\n'\n",
      "Tag 1\n",
      "\n",
      "Question b'\"blank code slow skin detection this code changes the color space to lab and using a threshold finds the skin area of an image. but it\\'s ridiculously slow. i don\\'t know how to make it faster ?    ..from colormath.color_objects import *..def skindetection(img, treshold=80, color=[255,20,147]):..    print img.shape.    res=img.copy().    for x in range(img.shape[0]):.        for y in range(img.shape[1]):.            rgbimg=rgbcolor(img[x,y,0],img[x,y,1],img[x,y,2]).            labimg=rgbimg.convert_to(\\'lab\\', debug=false).            if (labimg.lab_l &gt; treshold):.                res[x,y,:]=color.            else: .                res[x,y,:]=img[x,y,:]..    return res\"\\n'\n",
      "Tag 3\n",
      "\n",
      "Question b'\"option and validation in blank i want to add a new option on my system where i want to add two text files, both rental.txt and customer.txt. inside each text are id numbers of the customer, the videotape they need and the price...i want to place it as an option on my code. right now i have:...add customer.rent return.view list.search.exit...i want to add this as my sixth option. say for example i ordered a video, it would display the price and would let me confirm the price and if i am going to buy it or not...here is my current code:..  import blank.io.*;.    import blank.util.arraylist;.    import static blank.lang.system.out;..    public class rentalsystem{.    static bufferedreader input = new bufferedreader(new inputstreamreader(system.in));.    static file file = new file(\"\"file.txt\"\");.    static arraylist&lt;string&gt; list = new arraylist&lt;string&gt;();.    static int rows;..    public static void main(string[] args) throws exception{.        introduction();.        system.out.print(\"\"nn\"\");.        login();.        system.out.print(\"\"nnnnnnnnnnnnnnnnnnnnnn\"\");.        introduction();.        string repeat;.        do{.            loadfile();.            system.out.print(\"\"nwhat do you want to do?nn\"\");.            system.out.print(\"\"n                    - - - - - - - - - - - - - - - - - - - - - - -\"\");.            system.out.print(\"\"nn                    |     1. add customer    |   2. rent return |n\"\");.            system.out.print(\"\"n                    - - - - - - - - - - - - - - - - - - - - - - -\"\");.            system.out.print(\"\"nn                    |     3. view list       |   4. search      |n\"\");.            system.out.print(\"\"n                    - - - - - - - - - - - - - - - - - - - - - - -\"\");.            system.out.print(\"\"nn                                             |   5. exit        |n\"\");.            system.out.print(\"\"n                                              - - - - - - - - - -\"\");.            system.out.print(\"\"nnchoice:\"\");.            int choice = integer.parseint(input.readline());.            switch(choice){.                case 1:.                    writedata();.                    break;.                case 2:.                    rentdata();.                    break;.                case 3:.                    viewlist();.                    break;.                case 4:.                    search();.                    break;.                case 5:.                    system.out.println(\"\"goodbye!\"\");.                    system.exit(0);.                default:.                    system.out.print(\"\"invalid choice: \"\");.                    break;.            }.            system.out.print(\"\"ndo another task? [y/n] \"\");.            repeat = input.readline();.        }while(repeat.equals(\"\"y\"\"));..        if(repeat!=\"\"y\"\") system.out.println(\"\"ngoodbye!\"\");..    }..    public static void writedata() throws exception{.        system.out.print(\"\"nname: \"\");.        string cname = input.readline();.        system.out.print(\"\"address: \"\");.        string add = input.readline();.        system.out.print(\"\"phone no.: \"\");.        string pno = input.readline();.        system.out.print(\"\"rental amount: \"\");.        string ramount = input.readline();.        system.out.print(\"\"tapenumber: \"\");.        string tno = input.readline();.        system.out.print(\"\"title: \"\");.        string title = input.readline();.        system.out.print(\"\"date borrowed: \"\");.        string dborrowed = input.readline();.        system.out.print(\"\"due date: \"\");.        string ddate = input.readline();.        createline(cname, add, pno, ramount,tno, title, dborrowed, ddate);.        rentdata();.    }..    public static void createline(string name, string address, string phone , string rental, string tapenumber, string title, string borrowed, string due) throws exception{.        filewriter fw = new filewriter(file, true);.        fw.write(\"\"nname: \"\"+name + \"\"naddress: \"\" + address +\"\"nphone no.: \"\"+ phone+\"\"nrentalamount: \"\"+rental+\"\"ntape no.: \"\"+ tapenumber+\"\"ntitle: \"\"+ title+\"\"ndate borrowed: \"\"+borrowed +\"\"ndue date: \"\"+ due+\"\":rn\"\");.        fw.close();.    }..    public static void loadfile() throws exception{.        try{.            list.clear();.            fileinputstream fstream = new fileinputstream(file);.            bufferedreader br = new bufferedreader(new inputstreamreader(fstream));.            rows = 0;.            while( br.ready()).            {.                list.add(br.readline());.                rows++;.            }.            br.close();.        } catch(exception e){.            system.out.println(\"\"list not yet loaded.\"\");.        }.    }..    public static void viewlist(){.        system.out.print(\"\"n~ ~ ~ ~ ~ ~ ~ ~ ~ ~ ~\"\");.        system.out.print(\"\" |list of all costumers|\"\");.        system.out.print(\"\"~ ~ ~ ~ ~ ~ ~ ~ ~ ~ ~\"\");.        for(int i = 0; i &lt;rows; i++){.            system.out.println(list.get(i));.        }.    }.        public static void rentdata()throws exception.    {   system.out.print(\"\"n~ ~ ~ ~ ~ ~ ~ ~ ~ ~ ~\"\");.        system.out.print(\"\" |rent data list|\"\");.        system.out.print(\"\"~ ~ ~ ~ ~ ~ ~ ~ ~ ~ ~\"\");.        system.out.print(\"\"nenter customer name: \"\");.        string cname = input.readline();.        system.out.print(\"\"date borrowed: \"\");.        string dborrowed = input.readline();.        system.out.print(\"\"due date: \"\");.        string ddate = input.readline();.        system.out.print(\"\"return date: \"\");.        string rdate = input.readline();.        system.out.print(\"\"rent amount: \"\");.        string ramount = input.readline();..        system.out.print(\"\"you pay:\"\"+ramount);...    }.    public static void search()throws exception.    {   system.out.print(\"\"n~ ~ ~ ~ ~ ~ ~ ~ ~ ~ ~\"\");.        system.out.print(\"\" |search costumers|\"\");.        system.out.print(\"\"~ ~ ~ ~ ~ ~ ~ ~ ~ ~ ~\"\");.        system.out.print(\"\"nenter costumer name: \"\");.        string cname = input.readline();.        boolean found = false;..        for(int i=0; i &lt; rows; i++){.            string temp[] = list.get(i).split(\"\",\"\");..            if(cname.equals(temp[0])){.            system.out.println(\"\"search result:nyou are \"\" + temp[0] + \"\" from \"\" + temp[1] + \"\".\"\"+ temp[2] + \"\".\"\"+ temp[3] + \"\".\"\"+ temp[4] + \"\".\"\"+ temp[5] + \"\" is \"\" + temp[6] + \"\".\"\"+ temp[7] + \"\" is \"\" + temp[8] + \"\".\"\");.                found = true;.            }.        }..        if(!found){.            system.out.print(\"\"no results.\"\");.        }..    }..        public static boolean evaluate(string uname, string pass){.        if (uname.equals(\"\"admin\"\")&amp;&amp;pass.equals(\"\"12345\"\")) return true;.        else return false;.    }..    public static string login()throws exception{.        bufferedreader input=new bufferedreader(new inputstreamreader(system.in));.        int counter=0;.        do{.            system.out.print(\"\"username:\"\");.            string uname =input.readline();.            system.out.print(\"\"password:\"\");.            string pass =input.readline();..            boolean accept= evaluate(uname,pass);..            if(accept){.                break;.                }else{.                    system.out.println(\"\"incorrect username or password!\"\");.                    counter ++;.                    }.        }while(counter&lt;3);..            if(counter !=3) return \"\"login successful\"\";.            else return \"\"login failed\"\";.            }.        public static void introduction() throws exception{..        system.out.println(\"\"                  - - - - - - - - - - - - - - - - - - - - - - - - -\"\");.        system.out.println(\"\"                  !                  r e n t a l                  !\"\");.        system.out.println(\"\"                   ! ~ ~ ~ ~ ~ !  =================  ! ~ ~ ~ ~ ~ !\"\");.        system.out.println(\"\"                  !                  s y s t e m                  !\"\");.        system.out.println(\"\"                  - - - - - - - - - - - - - - - - - - - - - - - - -\"\");.        }..}\"\\n'\n",
      "Tag 1\n",
      "\n"
     ]
    }
   ],
   "source": [
    "for text_batch, tag_batch in raw_train_ds.take(1):\n",
    "    for i in range(3):\n",
    "        print(\"Question\", text_batch.numpy()[i])\n",
    "        print(\"Tag\", tag_batch.numpy()[i])\n",
    "        print()"
   ]
  },
  {
   "cell_type": "markdown",
   "id": "6be956d2-8e41-4df1-9d5f-8126a324bf92",
   "metadata": {},
   "source": [
    "Notice the questions contain raw text (with punctuation and occasional HTML tags like `<br/>`). We shall handle these in the following section.\n",
    "The labels are `0, 1, 2` or `3`. To see which of these correspond to `java, python, csharp` or `javascript tags`, we can check the `class_names` property on the dataset."
   ]
  },
  {
   "cell_type": "code",
   "execution_count": 13,
   "id": "d25a7c02-a89c-43d4-a56d-5f20f634e7fc",
   "metadata": {},
   "outputs": [
    {
     "name": "stdout",
     "output_type": "stream",
     "text": [
      "Label 0 corresponds to csharp tag\n",
      "Label 1 corresponds to java tag\n",
      "Label 2 corresponds to javascript tag\n",
      "Label 3 corresponds to python tag\n"
     ]
    }
   ],
   "source": [
    "print(f'Label 0 corresponds to {raw_train_ds.class_names[0]} tag')\n",
    "print(f'Label 1 corresponds to {raw_train_ds.class_names[1]} tag')\n",
    "print(f'Label 2 corresponds to {raw_train_ds.class_names[2]} tag')\n",
    "print(f'Label 3 corresponds to {raw_train_ds.class_names[3]} tag')"
   ]
  },
  {
   "cell_type": "markdown",
   "id": "e2cda5d4-a808-48bc-a700-2330b9695e3a",
   "metadata": {},
   "source": [
    "### Validation dataset\n",
    "We will create a validation and test dataset. We will use the remaining `1,600` questions from the training set for validation.\n",
    "\n",
    "**Note:** When using the `validation_split` and `subset` arguments, make sure to either specify a random `seed`, or to pass `shuffle=False`, so that the validation and training splits have no overlap."
   ]
  },
  {
   "cell_type": "code",
   "execution_count": 14,
   "id": "8027aeb9-c3b2-431b-9907-e6004203d8de",
   "metadata": {},
   "outputs": [
    {
     "name": "stdout",
     "output_type": "stream",
     "text": [
      "Found 8000 files belonging to 4 classes.\n",
      "Using 1600 files for validation.\n"
     ]
    }
   ],
   "source": [
    "raw_val_ds = tf.keras.utils.text_dataset_from_directory(\n",
    "    train_dir,\n",
    "    batch_size=batch_size,\n",
    "    validation_split=0.2,\n",
    "    subset='validation',\n",
    "    seed=seed)"
   ]
  },
  {
   "cell_type": "code",
   "execution_count": 15,
   "id": "0febda3a-f515-4fbd-9f50-008095655b2b",
   "metadata": {},
   "outputs": [
    {
     "name": "stdout",
     "output_type": "stream",
     "text": [
      "Found 8000 files belonging to 4 classes.\n"
     ]
    }
   ],
   "source": [
    "raw_test_ds = tf.keras.utils.text_dataset_from_directory(\n",
    "    test_dir,\n",
    "    batch_size=batch_size)"
   ]
  },
  {
   "cell_type": "markdown",
   "id": "cde5bfeb-df1e-4e27-a619-bb6c78a23bf2",
   "metadata": {},
   "source": [
    "### Prepare the dataset for training\n",
    "\n",
    "We will `standardize, tokenize`, and `vectorize` the data using the helpful `tf.keras.layers.TextVectorization` layer.\n",
    "\n",
    "* `Standardization` refers to preprocessing the text, typically to remove **punctuation** or **HTML elements** to simplify the dataset. \n",
    "* `Tokenization` refers to splitting strings into **tokens** (for example, splitting a sentence into individual words, by splitting on whitespace).\n",
    "* `Vectorization` refers to **converting tokens into numbers** so they can be fed into a neural network. **All of these tasks can be accomplished with the `tf.keras.layers.TextVectorization` layer**.\n",
    "\n",
    "As can be seen above, the questions contain various HTML tags like `<br />`. These tags will not be removed by the default standardizer in the `TextVectorization` layer (which converts text to lowercase and strips punctuation by default, **but doesn't strip HTML**). We will write a custom standardization function to remove the HTML.\n",
    "\n",
    "**Note**: To prevent [training-testing skew](https://developers.google.com/machine-learning/guides/rules-of-ml#training-serving_skew) (also known as training-serving skew), it is important to preprocess the data identically at train and test time. To facilitate this, **the `TextVectorization` layer can be included directly inside your model**, as shown later below."
   ]
  },
  {
   "cell_type": "code",
   "execution_count": 16,
   "id": "c7bffd48-f955-47d7-83a2-34672e2df7a8",
   "metadata": {},
   "outputs": [],
   "source": [
    "def custom_standardization(input_data):\n",
    "    lowercase = tf.strings.lower(input_data)\n",
    "    stripped_html = tf.strings.regex_replace(lowercase, '<br />', ' ')\n",
    "    return tf.strings.regex_replace(stripped_html, '[%s]' % re.escape(string.punctuation), '')"
   ]
  },
  {
   "cell_type": "markdown",
   "id": "438129cd-b9a5-439d-bb9d-48cbc1cb48aa",
   "metadata": {},
   "source": [
    "### The `TextVectorization` layer\n",
    "We will create a `TextVectorization` layer which we will use to `standardize, tokenize`, and `vectorize` our data. We will set the `output_mode` to `int` to create unique integer indices for each token.\n",
    "\n",
    "We will be using the default split function, and the custom standardization function defined above. We'll also set some constants for the model, such as maximum **`sequence_length`**, which will cause the layer to pad or truncate sequences to exactly **`sequence_length`** values."
   ]
  },
  {
   "cell_type": "code",
   "execution_count": 17,
   "id": "1d0358b4-fcfb-41cb-96a4-6f2e5cfb12e2",
   "metadata": {},
   "outputs": [],
   "source": [
    "max_tokens = 10000\n",
    "sequence_length = 250\n",
    "\n",
    "vectorize_layer = layers.TextVectorization(\n",
    "    standardize = custom_standardization,\n",
    "    max_tokens = max_tokens,\n",
    "    output_mode = 'int',\n",
    "    output_sequence_length = sequence_length)"
   ]
  },
  {
   "cell_type": "markdown",
   "id": "e5bdc39a-12ac-4ee2-a2ea-89a6b3cd244e",
   "metadata": {},
   "source": [
    "### Fit the `state` of the preprocessing layer to the dataset\n",
    "We will call **`adapt`** method of our **vectorize_layer** to fit the state of the preprocessing layer to the dataset. **This will enable the model to build an index of strings to integers**.\n",
    "\n",
    "**Note: It's important to only use the training data when calling adapt (using the test set would leak information)**.\n",
    "### Make a text-only dataset (without labels), then call `adapt`"
   ]
  },
  {
   "cell_type": "code",
   "execution_count": 18,
   "id": "09fa1703-2d61-4bfa-bbc1-466f72d9b7e6",
   "metadata": {},
   "outputs": [],
   "source": [
    "train_text = raw_train_ds.map(lambda x, y: x)\n",
    "vectorize_layer.adapt(train_text)"
   ]
  },
  {
   "cell_type": "markdown",
   "id": "a2d20fd2-2044-4869-9229-2916e2840e78",
   "metadata": {},
   "source": [
    "**Let's create a helper function to see the result of using this layer to preprocess some data.**"
   ]
  },
  {
   "cell_type": "code",
   "execution_count": 19,
   "id": "8159a9c4-2511-495c-bf27-d8affcdcc88d",
   "metadata": {},
   "outputs": [],
   "source": [
    "def vectorize_text(text, label):\n",
    "    text = tf.expand_dims(text, -1)\n",
    "    return vectorize_layer(text), label"
   ]
  },
  {
   "cell_type": "markdown",
   "id": "56a4c16e-75a6-4b1e-82cc-a0cd1a5d0d6e",
   "metadata": {},
   "source": [
    "### Retrieve a batch (of 32 reviews and labels) from the dataset"
   ]
  },
  {
   "cell_type": "code",
   "execution_count": 20,
   "id": "9a578e5e-99c1-4bb3-ac06-4dadc95e90d9",
   "metadata": {},
   "outputs": [
    {
     "name": "stdout",
     "output_type": "stream",
     "text": [
      "Review: b'\"set blank to quit on exception? i\\'m using blank 3..i\\'ve been looking around for an answer to this, but i haven\\'t found it yet. basically, i\\'m running several blank scripts into a game engine, and each script has its own entry point...i\\'d rather not add try: except blocks through all of my code, so i was wondering if it\\'s at all possible to tell blank to quit (or perhaps assign a custom function to that \"\"callback\"\") on finding its first error, regardless of where or what it found? ..currently, the game engine will continue after finding and hitting an error, making it more difficult than necessary to diagnose issues since running into one error may make a subsequent script not work (as it relies on variables that the error-ing script set, for example). any ideas? ..i know that i could redirect the console to a file to allow for easier scrolling, but just capturing the first error and stopping the game prematurely would be really useful...okay, a couple of extra bits of info - sorry for neglecting to say this. the engine i\\'m using (the blender game engine) is coded in c, so changing the source is more than i\\'d like to do.....after googling, it would appear that a similar question with a solid answer has been asked here, which is how to get the last raised exception. if i check the sys module for the presence of the last_value variable and it exists, then i can quit prematurely, as the console would have already printed out the error...thanks for the help.\"\\n'\n",
      "\n",
      "Label: python\n",
      "\n",
      "Vectorized Question: [[ 107   16    4 1139   37  184   52   47   16    1  215  417  518   12\n",
      "    32  182    4   13   26    3 1416  227   11  894  627   52  309  718\n",
      "    16 1274  100    5  244 1826    8  119  224   95   97  657  858    1\n",
      "   797   20  125  117  559 2282  194   73    9   23   30   50    3  115\n",
      "   566   10   97   59   73  204    4  412   16    4 1139   45 1670  601\n",
      "     5  694   38    4   14  851   37  967   97   98   65 2374    9  132\n",
      "    45   55   11  227  401    2  244 1826   72  534  156  967    8 7808\n",
      "    32   65  468   11  181 2332  198 1461    4    1 1093  447  309  100\n",
      "    71   65  454  109    5 3560  224   20  139   36   11 9052   37  233\n",
      "    14    2    1  224  107   12  137   76  779    3  102   14    3  176\n",
      "  1853    2  332    4    5   39    4  787   12 1320 3579   26  106    1\n",
      "     2   98   65    8 2902    2  244    1   69   33  336    1    5 1759\n",
      "     9 1157 2531    9  568  729   12    1    4  321   13    2 1826   52\n",
      "    47    2    1  244 1826    6 2619    7  131   50  801    2  313    6\n",
      "   181  198  142   48    4    1 3965   11   69  882   14    5  520  159\n",
      "    21    5 1706  182   95  215  912  101   66    6   24    4   41    2\n",
      "   218 2918  184   10    3  186    2 1358  380   12    2 9151    9    2\n",
      "     1  116    8   11  758   87    3   35 1139    1   36    2]]\n",
      "\n",
      "Tag: 3\n"
     ]
    }
   ],
   "source": [
    "text_batch, label_batch = next(iter(raw_train_ds))\n",
    "first_review, first_label = text_batch[0], label_batch[0]\n",
    "print(f'Review: {first_review}')\n",
    "print(f'\\nLabel: {raw_train_ds.class_names[first_label]}')\n",
    "vector, tag = vectorize_text(first_review, first_label)\n",
    "print(f'\\nVectorized Question: {vector}')\n",
    "print(f'\\nTag: {tag}')"
   ]
  },
  {
   "cell_type": "markdown",
   "id": "3e5e5ebf-6c75-4721-9ed8-06821c91a8dd",
   "metadata": {},
   "source": [
    "### What the numbers represent\n",
    "As can seen above, each token has been replaced by an integer. We can lookup the token (string) that each integer corresponds to by calling `.get_vocabulary()` on the layer."
   ]
  },
  {
   "cell_type": "code",
   "execution_count": 21,
   "id": "16c2134b-241e-43a6-a442-4b256de8e2d4",
   "metadata": {},
   "outputs": [
    {
     "name": "stdout",
     "output_type": "stream",
     "text": [
      "1053 ---> came\n",
      "793 ---> handle\n",
      "1222 ---> myclass\n",
      "\n",
      "Vocabulary size: 10000\n"
     ]
    }
   ],
   "source": [
    "print(f'1053 ---> {vectorize_layer.get_vocabulary()[1053]}')\n",
    "print(f'793 ---> {vectorize_layer.get_vocabulary()[793]}')\n",
    "print(f'1222 ---> {vectorize_layer.get_vocabulary()[1222]}')\n",
    "print(f'\\nVocabulary size: {len(vectorize_layer.get_vocabulary())}')"
   ]
  },
  {
   "cell_type": "markdown",
   "id": "aa9a85ca-4c9c-4cfe-b57c-ded888467cf9",
   "metadata": {},
   "source": [
    "### Vectorize the Questions\n",
    "As a final preprocessing step, before we train your model, we will apply the **`TextVectorization`** layer from above to the **train, validation**, and **test** dataset."
   ]
  },
  {
   "cell_type": "code",
   "execution_count": 22,
   "id": "75c7599e-13f8-4039-8262-1831f2ccf27e",
   "metadata": {},
   "outputs": [],
   "source": [
    "train_ds = raw_train_ds.map(vectorize_text)\n",
    "val_ds = raw_val_ds.map(vectorize_text)\n",
    "test_ds = raw_test_ds.map(vectorize_text)"
   ]
  },
  {
   "cell_type": "markdown",
   "id": "397e26e9-4793-4a57-9b0f-ec4422232be4",
   "metadata": {},
   "source": [
    "### Configure the dataset for performance\n",
    "\n",
    "These are two important methods we should use when loading data to make sure that I/O does not become blocking.\n",
    "\n",
    "* **`.cache()`** keeps data in memory after it's loaded off disk. This will ensure the dataset does not become a bottleneck while training your model. If the dataset is too large to fit into memory, we can also use this method to create a performant on-disk cache, which is more efficient to read than many small files.\n",
    "\n",
    "* **`.prefetch()`** overlaps data preprocessing and model execution while training.\n",
    "\n",
    "More about both methods, as well as how to cache data to disk can be found in the [data performance guide](https://www.tensorflow.org/guide/data_performance)."
   ]
  },
  {
   "cell_type": "code",
   "execution_count": 23,
   "id": "afe0693b-e550-4836-8da7-a958adbd234e",
   "metadata": {},
   "outputs": [],
   "source": [
    "AUTOTUNE = tf.data.AUTOTUNE\n",
    "\n",
    "train_ds = train_ds.cache().prefetch(buffer_size=AUTOTUNE)\n",
    "val_ds = val_ds.cache().prefetch(buffer_size=AUTOTUNE)\n",
    "test_ds = test_ds.cache().prefetch(buffer_size=AUTOTUNE)"
   ]
  },
  {
   "cell_type": "markdown",
   "id": "dce82011-31fc-4824-bf33-e29acc60b61f",
   "metadata": {},
   "source": [
    "### Create the model\n",
    "It's time to create the neural network"
   ]
  },
  {
   "cell_type": "code",
   "execution_count": 24,
   "id": "bc0ba106-a1eb-49cd-ae98-057818010dcd",
   "metadata": {},
   "outputs": [
    {
     "name": "stdout",
     "output_type": "stream",
     "text": [
      "Model: \"sequential\"\n",
      "_________________________________________________________________\n",
      " Layer (type)                Output Shape              Param #   \n",
      "=================================================================\n",
      " embedding (Embedding)       (None, None, 16)          160000    \n",
      "                                                                 \n",
      " dropout (Dropout)           (None, None, 16)          0         \n",
      "                                                                 \n",
      " global_average_pooling1d (G  (None, 16)               0         \n",
      " lobalAveragePooling1D)                                          \n",
      "                                                                 \n",
      " dropout_1 (Dropout)         (None, 16)                0         \n",
      "                                                                 \n",
      " dense (Dense)               (None, 4)                 68        \n",
      "                                                                 \n",
      "=================================================================\n",
      "Total params: 160,068\n",
      "Trainable params: 160,068\n",
      "Non-trainable params: 0\n",
      "_________________________________________________________________\n"
     ]
    }
   ],
   "source": [
    "embedding_dim = 16\n",
    "\n",
    "model = tf.keras.Sequential([\n",
    "  layers.Embedding(max_tokens, embedding_dim),\n",
    "  layers.Dropout(0.2),\n",
    "  layers.GlobalAveragePooling1D(),\n",
    "  layers.Dropout(0.2),\n",
    "  layers.Dense(4, activation='softmax')])\n",
    "\n",
    "model.summary()"
   ]
  },
  {
   "cell_type": "markdown",
   "id": "50d9d274-ac2f-4b70-a9f7-444d27121542",
   "metadata": {},
   "source": [
    "The layers are stacked sequentially to build the classifier:\n",
    "\n",
    "1. The first layer is an `Embedding` layer. This layer takes the integer-encoded questions and looks up an embedding vector for each word-index. These vectors are learned as the model trains. The vectors add a dimension to the output array. The resulting dimensions are: `(batch, sequence, embedding)`.  More about embeddings can be read from [Word embeddings](https://www.tensorflow.org/text/guide/word_embeddings).\n",
    "2. Nest is the `GlobalAveragePooling1D` layer which returns a fixed-length output vector for each example by averaging over the sequence dimension. This allows the model to handle input of variable length, in the simplest way possible.\n",
    "3. The last layer is densely connected with a four (4) output nodes, one for each tag.\n",
    "\n",
    "### Compile the model: Loss function and optimizer\n",
    "A model needs a **loss function** and an **optimizer** for training. Since this is a multiclass classification problem and the model outputs four probabilities (a 4-unit layer with a `softmax` activation), we'll use `sparse_categorical_crossentropy` loss function.\n",
    "\n",
    "Now, let's configure the model to use an optimizer and a loss function:"
   ]
  },
  {
   "cell_type": "code",
   "execution_count": 25,
   "id": "6ac0fa86-272f-4b0a-985a-5fabe8d62086",
   "metadata": {},
   "outputs": [],
   "source": [
    "model.compile(loss = losses.sparse_categorical_crossentropy,\n",
    "              optimizer = 'adam',\n",
    "              metrics = ['accuracy'])"
   ]
  },
  {
   "cell_type": "markdown",
   "id": "d2b79606-d799-4ce6-9391-a1ed9cca6c6f",
   "metadata": {},
   "source": [
    "### Train the model\n",
    "We will train the model by passing the `dataset` object to the fit method."
   ]
  },
  {
   "cell_type": "code",
   "execution_count": 26,
   "id": "06fc44f1-c024-4d09-99c9-d751d41d3ed9",
   "metadata": {},
   "outputs": [
    {
     "name": "stdout",
     "output_type": "stream",
     "text": [
      "Epoch 1/20\n",
      "200/200 [==============================] - 22s 94ms/step - loss: 1.3792 - accuracy: 0.3236 - val_loss: 1.3679 - val_accuracy: 0.4731\n",
      "Epoch 2/20\n",
      "200/200 [==============================] - 16s 78ms/step - loss: 1.3516 - accuracy: 0.4620 - val_loss: 1.3310 - val_accuracy: 0.5456\n",
      "Epoch 3/20\n",
      "200/200 [==============================] - 16s 79ms/step - loss: 1.3026 - accuracy: 0.5327 - val_loss: 1.2731 - val_accuracy: 0.5856\n",
      "Epoch 4/20\n",
      "200/200 [==============================] - 16s 80ms/step - loss: 1.2354 - accuracy: 0.5891 - val_loss: 1.2016 - val_accuracy: 0.6387\n",
      "Epoch 5/20\n",
      "200/200 [==============================] - 16s 78ms/step - loss: 1.1575 - accuracy: 0.6444 - val_loss: 1.1255 - val_accuracy: 0.6762\n",
      "Epoch 6/20\n",
      "200/200 [==============================] - 15s 77ms/step - loss: 1.0782 - accuracy: 0.6886 - val_loss: 1.0527 - val_accuracy: 0.7181\n",
      "Epoch 7/20\n",
      "200/200 [==============================] - 16s 79ms/step - loss: 1.0033 - accuracy: 0.7150 - val_loss: 0.9850 - val_accuracy: 0.7344\n",
      "Epoch 8/20\n",
      "200/200 [==============================] - 15s 77ms/step - loss: 0.9381 - accuracy: 0.7406 - val_loss: 0.9259 - val_accuracy: 0.7419\n",
      "Epoch 9/20\n",
      "200/200 [==============================] - 15s 73ms/step - loss: 0.8782 - accuracy: 0.7597 - val_loss: 0.8749 - val_accuracy: 0.7531\n",
      "Epoch 10/20\n",
      "200/200 [==============================] - 16s 80ms/step - loss: 0.8258 - accuracy: 0.7711 - val_loss: 0.8303 - val_accuracy: 0.7619\n",
      "Epoch 11/20\n",
      "200/200 [==============================] - 16s 81ms/step - loss: 0.7799 - accuracy: 0.7894 - val_loss: 0.7924 - val_accuracy: 0.7688\n",
      "Epoch 12/20\n",
      "200/200 [==============================] - 17s 85ms/step - loss: 0.7369 - accuracy: 0.7992 - val_loss: 0.7573 - val_accuracy: 0.7825\n",
      "Epoch 13/20\n",
      "200/200 [==============================] - 16s 80ms/step - loss: 0.6996 - accuracy: 0.8094 - val_loss: 0.7285 - val_accuracy: 0.7869\n",
      "Epoch 14/20\n",
      "200/200 [==============================] - 16s 79ms/step - loss: 0.6660 - accuracy: 0.8156 - val_loss: 0.7019 - val_accuracy: 0.7937\n",
      "Epoch 15/20\n",
      "200/200 [==============================] - 16s 81ms/step - loss: 0.6358 - accuracy: 0.8291 - val_loss: 0.6786 - val_accuracy: 0.7937\n",
      "Epoch 16/20\n",
      "200/200 [==============================] - 16s 80ms/step - loss: 0.6080 - accuracy: 0.8359 - val_loss: 0.6578 - val_accuracy: 0.7962\n",
      "Epoch 17/20\n",
      "200/200 [==============================] - 16s 78ms/step - loss: 0.5834 - accuracy: 0.8419 - val_loss: 0.6391 - val_accuracy: 0.7975\n",
      "Epoch 18/20\n",
      "200/200 [==============================] - 21s 105ms/step - loss: 0.5595 - accuracy: 0.8472 - val_loss: 0.6220 - val_accuracy: 0.8012\n",
      "Epoch 19/20\n",
      "200/200 [==============================] - 36s 181ms/step - loss: 0.5378 - accuracy: 0.8567 - val_loss: 0.6064 - val_accuracy: 0.8044\n",
      "Epoch 20/20\n",
      "200/200 [==============================] - 49s 247ms/step - loss: 0.5165 - accuracy: 0.8616 - val_loss: 0.5932 - val_accuracy: 0.8075\n"
     ]
    }
   ],
   "source": [
    "epochs = 20\n",
    "history = model.fit(\n",
    "    train_ds,\n",
    "    validation_data = val_ds,\n",
    "    epochs = epochs, verbose = 1)"
   ]
  },
  {
   "cell_type": "markdown",
   "id": "35ce42de-ba61-4872-bd50-aa9ea0152ade",
   "metadata": {},
   "source": [
    "### Evaluate the model on the test dataset\n",
    "Let's see how the model performs. Two values will be returned. Loss (a number which represents our error, lower values are better), and accuracy."
   ]
  },
  {
   "cell_type": "code",
   "execution_count": 27,
   "id": "13b7a416-f248-45a6-941e-f2965601b751",
   "metadata": {},
   "outputs": [
    {
     "name": "stdout",
     "output_type": "stream",
     "text": [
      "250/250 [==============================] - 3s 12ms/step - loss: 0.6351 - accuracy: 0.7831\n",
      "Loss: 0.6351357102394104\n",
      "Accuracy: 0.7831250429153442\n"
     ]
    }
   ],
   "source": [
    "loss, accuracy = model.evaluate(test_ds)\n",
    "\n",
    "print(f'Loss: {loss}')\n",
    "print(f'Accuracy: {accuracy}')"
   ]
  },
  {
   "cell_type": "markdown",
   "id": "b1416116-7c5d-4ea1-90be-fe9c8913b6f3",
   "metadata": {},
   "source": [
    "This fairly naive approach achieves an accuracy of about `78%.`\n",
    "\n",
    "### Create a plot of accuracy and loss over time\n",
    "`model.fit()` returns a `History` object that contains a dictionary with everything that happened during training:"
   ]
  },
  {
   "cell_type": "code",
   "execution_count": 28,
   "id": "7396ffc4-a048-41f3-8bc9-a6084c69047b",
   "metadata": {},
   "outputs": [
    {
     "data": {
      "text/plain": [
       "dict_keys(['loss', 'accuracy', 'val_loss', 'val_accuracy'])"
      ]
     },
     "execution_count": 28,
     "metadata": {},
     "output_type": "execute_result"
    }
   ],
   "source": [
    "history_dict = history.history\n",
    "history_dict.keys()"
   ]
  },
  {
   "cell_type": "markdown",
   "id": "3b184afb-152d-4070-98e6-a1a0ff12bff1",
   "metadata": {},
   "source": [
    "There are four entries: one for each monitored metric during training and validation. We can use these to plot the training and validation loss for comparison, as well as the training and validation accuracy:"
   ]
  },
  {
   "cell_type": "code",
   "execution_count": 29,
   "id": "1e8fa911-fb60-4aca-8d61-79dc60e3773a",
   "metadata": {},
   "outputs": [
    {
     "data": {
      "image/png": "[encoded data removed]",
      "text/plain": [
       "<Figure size 864x432 with 2 Axes>"
      ]
     },
     "metadata": {
      "needs_background": "light"
     },
     "output_type": "display_data"
    }
   ],
   "source": [
    "acc = history_dict['accuracy']\n",
    "val_acc = history_dict['val_accuracy']\n",
    "loss = history_dict['loss']\n",
    "val_loss = history_dict['val_loss']\n",
    "\n",
    "epochs = range(1, len(acc) + 1)\n",
    "\n",
    "fig, ax = plt.subplots(1, 2, figsize = (12, 6))\n",
    "ax[0].plot(epochs, loss, 'bo', label='Training loss')\n",
    "ax[0].plot(epochs, val_loss, 'b', label='Validation loss')\n",
    "ax[0].set_title('Training and validation loss')\n",
    "ax[0].set_xlabel('Epochs')\n",
    "ax[0].set_ylabel('Loss')\n",
    "ax[0].legend()\n",
    "\n",
    "ax[1].plot(epochs, acc, 'bo', label='Training acc')\n",
    "ax[1].plot(epochs, val_acc, 'b', label='Validation acc')\n",
    "ax[1].set_title('Training and validation accuracy')\n",
    "ax[1].set_xlabel('Epochs')\n",
    "ax[1].set_ylabel('Accuracy')\n",
    "ax[1].legend(loc='lower right')\n",
    "fig.tight_layout()\n",
    "plt.show()"
   ]
  },
  {
   "cell_type": "markdown",
   "id": "fa5caf2f-9507-4918-ac7c-9ed0d834c096",
   "metadata": {},
   "source": [
    "In this plot, the dots represent the training loss and accuracy, and the solid lines are the validation loss and accuracy.\n",
    "\n",
    "Notice the training loss *decreases* with each epoch and the training accuracy *increases* with each epoch. This is expected when using a `gradient descent` optimization — it should minimize the desired quantity (loss) on every iteration.\n",
    "\n",
    "This isn't the case for the validation loss and accuracy — they seem to peak before the training accuracy. This is an example of `overfitting`: the model performs better on the training data than it does on data it has never seen before. After this point, the model over-optimizes and learns representations *specific* to the training data that do not *generalize* to test data.\n",
    "\n",
    "For this particular case, you could prevent overfitting by simply stopping the training when the validation accuracy is no longer increasing. One way to do so is to use the `tf.keras.callbacks.EarlyStopping` callback.\n",
    "\n",
    "## Export the model\n",
    "\n",
    "In the code above, we applied the `TextVectorization` layer to the dataset before feeding text to the model. If we want to make our model capable of processing raw strings (for example, to simplify deploying it), we can include the `TextVectorization` layer inside your model. To do so, **we can create a new model using the weights we just trained**."
   ]
  },
  {
   "cell_type": "code",
   "execution_count": 30,
   "id": "ecaf7649-36af-4383-b3b9-da200ac20128",
   "metadata": {},
   "outputs": [],
   "source": [
    "export_model = tf.keras.Sequential([\n",
    "  vectorize_layer,\n",
    "  model,\n",
    "  layers.Activation('softmax')\n",
    "])\n",
    "\n",
    "export_model.compile(\n",
    "    loss = losses.sparse_categorical_crossentropy, optimizer = 'adam', metrics = ['accuracy']\n",
    ")"
   ]
  },
  {
   "cell_type": "markdown",
   "id": "05737630-d16c-4e02-bb6b-05ff09199a7c",
   "metadata": {},
   "source": [
    "### Test it with `raw_test_ds`, which yields raw strings"
   ]
  },
  {
   "cell_type": "code",
   "execution_count": 31,
   "id": "10a90f30-32bd-40d6-8c7c-27eeed4e3910",
   "metadata": {},
   "outputs": [
    {
     "name": "stdout",
     "output_type": "stream",
     "text": [
      "250/250 [==============================] - 6s 21ms/step - loss: 1.0684 - accuracy: 0.7831\n",
      "{'loss': 1.0683928728103638, 'accuracy': 0.7831250429153442}\n"
     ]
    }
   ],
   "source": [
    "metrics = export_model.evaluate(raw_test_ds, return_dict = True)\n",
    "print(metrics)"
   ]
  },
  {
   "cell_type": "markdown",
   "id": "0f190005-da5b-4deb-844e-38c647e3a2ca",
   "metadata": {},
   "source": [
    "### Inference on new data\n",
    "To get predictions for new examples, we simply call `model.predict()`."
   ]
  },
  {
   "cell_type": "code",
   "execution_count": 32,
   "id": "bb591e7a-15ce-477b-adb7-03528ff70543",
   "metadata": {},
   "outputs": [],
   "source": [
    "text1 = \"\"\"blank constructor with optional parameters i have a simple question about constructors in blank. \n",
    "will these two code snippets behave the same way?..code snippet #1:..public class foo.{.    public foo(string a = null, string b = null).    \n",
    "{.      // do testing on parameters.    }.}...code snippet #2:..public class foo.{.    public foo().    {.    }..    public foo(string a).    \n",
    "{.    }..    public foo(string a, string b).    {.    }.}...edit:.and if i add this to the code snippet #1? it may look a really bad idea, \n",
    "but i'm working on refactoring a legacy code, so i'm afraid if i do sth that will cause damage to other piece of that uses that \n",
    "class...public class foo.{.    public foo(string a = null, string b = null).    {.       if (a == null &amp;&amp; b == null).            \n",
    "{.                // do sth.            }else if (a != null &amp;&amp; b == null).            {.                // do sth.            }.            \n",
    "if (a != null &amp;&amp; b != null).            {.                // do sth.            }.            else.            {..            }.    }.}\n",
    "\"\"\"\n",
    "\n",
    "text2 = \"\"\"add version to @@webservice i'm using blankx.jws.webservice to create my webservice, in addition to targetnamespace i would like \n",
    "to include a \"\"version\"\" attribute to mark the version of my service. what other tag can i use in addition to this one to accomplish this so \n",
    "my wdsl will look like:..&lt;schema targetnamespace=\"\"http://example.com/2009/02/15/webservice\"\" version=\"\"1.1\"\" \n",
    "xmlns=\"\"http://www.w3.org/2000/10/xmlschema&gt;...i.e. it has a version attribute\n",
    "\"\"\"\n",
    "\n",
    "text3 = \"\"\"incrementing a for loop by decimal value i'm trying to implement a for loop that increments by 0.1. i have one that seems to work just \n",
    "fine for an increment of 0.5. although this may be a 'false positive' since the one for 0.1 gives me some strange values for i?   \n",
    "..function thisisi() {.    var x = 1;..    for (var i = (x+0.1); i &lt; 2; i += 0.1) {.        console.log('i', i);.    }..};\n",
    "...seems to yield:..i 1.1.i 1.2000000000000002.i 1.3000000000000003.i 1.4000000000000004.i 1.5000000000000004.i 1.6000000000000005.i \n",
    "1.7000000000000006.i 1.8000000000000007.i 1.9000000000000008...instead of what i need which is 1.1, 1.2, 1.3 etc. ..\n",
    "can someone please point out the root of my idiocy?\n",
    "\"\"\"\n",
    "\n",
    "text4 = \"\"\"sharing util modules between actively developed apps we have a growing library of apps depending on a set of common util modules.  \n",
    "we'd like to:...share the same utils codebase between all projects.allow utils to be extended (and fixed!) by developers working on any \n",
    "project.have this be reasonably simple to use for devs (i.e. not a big disruption to workflow).cross-platform (no diffs for devs on macs/win/linux)...\n",
    "we currently do this \"\"manually\"\", with the utils versioned as part of each app.  this has its benefits, but is also quite painful to repeatedly \n",
    "fix bugs across a growing number of codebases.  ..on the plus side, it's very simple to deal with in terms of workflow - \n",
    "util module is part of each app, so on that side there is zero overhead...we also considered (fleetingly) using filesystem links or some such \n",
    "(not portable between os's)..i understand the implications about release testing and breakage, etc.  \n",
    "these are less of a problem than the mismatched utils are at the moment.\n",
    "\"\"\""
   ]
  },
  {
   "cell_type": "code",
   "execution_count": 33,
   "id": "f4504a86-3297-4859-818a-2d413250fcca",
   "metadata": {},
   "outputs": [
    {
     "name": "stdout",
     "output_type": "stream",
     "text": [
      "1/1 [==============================] - 0s 483ms/step\n"
     ]
    },
    {
     "data": {
      "text/plain": [
       "array([[0.33762306, 0.28414628, 0.18960886, 0.18862182],\n",
       "       [0.29179063, 0.22702749, 0.23004135, 0.2511405 ],\n",
       "       [0.2027341 , 0.20323397, 0.3836082 , 0.21042372],\n",
       "       [0.2075827 , 0.20381863, 0.20161967, 0.38697895]], dtype=float32)"
      ]
     },
     "execution_count": 33,
     "metadata": {},
     "output_type": "execute_result"
    }
   ],
   "source": [
    "examples = tf.constant([text1, text2, text3, text4])\n",
    "\n",
    "export_model.predict(examples)"
   ]
  },
  {
   "cell_type": "code",
   "execution_count": 34,
   "id": "b16d3562-9c4b-4c81-98de-05f5cf1d7e86",
   "metadata": {},
   "outputs": [
    {
     "name": "stdout",
     "output_type": "stream",
     "text": [
      "1/1 [==============================] - 0s 90ms/step\n",
      "The tag in text1 is csharp\n",
      "The tag in text2 is csharp\n",
      "The tag in text3 is javascript\n",
      "The tag in text4 is python\n"
     ]
    }
   ],
   "source": [
    "import numpy as np\n",
    "tag_labels = ['csharp', 'jave', 'javascript', 'python']\n",
    "i = 0\n",
    "for probs in export_model.predict(examples):\n",
    "    i += 1\n",
    "    print(f'The tag in text{i} is {tag_labels[np.argmax(probs)]}')"
   ]
  },
  {
   "cell_type": "markdown",
   "id": "e965c5b0-98cf-434a-bef7-5356a55df747",
   "metadata": {},
   "source": [
    "### Important\n",
    "By including the text preprocessing logic inside your model enables us to export a model for production that simplifies **deployment**, and reduces the potential for [train/test skew](https://developers.google.com/machine-learning/guides/rules-of-ml#training-serving_skew).\n",
    "\n",
    "There is a performance difference to keep in mind when choosing where to apply our TextVectorization layer. Using it **outside** of our model enables us to do *asynchronous CPU processing and buffering* of our data when training on GPU. So, if we're training our model on the GPU, we probably want to go with this option (outside) to get the best performance while developing our model, then switch to including the TextVectorization layer inside our model when we're ready to prepare for deployment.\n",
    "\n",
    "Visit this [tutorial](https://www.tensorflow.org/tutorials/keras/save_and_load) to learn more about saving models."
   ]
  }
 ],
 "metadata": {
  "kernelspec": {
   "display_name": "Python 3 (ipykernel)",
   "language": "python",
   "name": "python3"
  },
  "language_info": {
   "codemirror_mode": {
    "name": "ipython",
    "version": 3
   },
   "file_extension": ".py",
   "mimetype": "text/x-python",
   "name": "python",
   "nbconvert_exporter": "python",
   "pygments_lexer": "ipython3",
   "version": "3.9.12"
  }
 },
 "nbformat": 4,
 "nbformat_minor": 5
}
